{
 "cells": [
  {
   "cell_type": "code",
   "execution_count": 1,
   "metadata": {},
   "outputs": [],
   "source": [
    "import openai\n",
    "import os\n",
    "import json\n",
    "from dataclasses import dataclass\n",
    "from typing import List\n",
    "openai.api_key = os.environ.get(\"OPEN_AI_FREE_API_KEY\")\n",
    "openai.api_base = 'https://api.pawan.krd/v1'\n"
   ]
  },
  {
   "cell_type": "code",
   "execution_count": 2,
   "metadata": {},
   "outputs": [],
   "source": [
    "from prompts import IN, OUT, NEW_CHAR_SYS_PROMPT, NEW_CHAR_SYS_PROMPT_PLUS, tcol"
   ]
  },
  {
   "cell_type": "code",
   "execution_count": 3,
   "metadata": {},
   "outputs": [],
   "source": [
    "class Machine:\n",
    "    def __init__(self, sys_prompt, model=\"gpt-3.5-turbo\", temperature = 0):\n",
    "        self._sys_messages = [{\"role\": \"system\", \"content\": sys_prompt}]\n",
    "        self.response = \"\"\n",
    "        self._model = model\n",
    "        self._temperature = temperature\n",
    "        \n",
    "    def set_system(self, sys_prompt):\n",
    "        self._sys_messages = [{\"role\": \"system\", \"content\": sys_prompt}]\n",
    "    \n",
    "    def add_system(self, sys_prompt):\n",
    "        self._sys_messages.append({\"role\": \"system\", \"content\": sys_prompt})\n",
    "\n",
    "    def get_completion(self, prompt, role = \"user\"):\n",
    "        messages = self._sys_messages + [{\"role\": role, \"content\": prompt}]\n",
    "        response = openai.ChatCompletion.create(\n",
    "            model=self._model,\n",
    "            messages=messages,\n",
    "            temperature=self._temperature, # this is the degree of randomness of the model's output\n",
    "            max_tokens=1000,\n",
    "        )\n",
    "        self.response = response.choices[0].message[\"content\"]\n",
    "        return self.response"
   ]
  },
  {
   "cell_type": "code",
   "execution_count": null,
   "metadata": {},
   "outputs": [],
   "source": []
  }
 ],
 "metadata": {
  "kernelspec": {
   "display_name": "Python 3",
   "language": "python",
   "name": "python3"
  },
  "language_info": {
   "codemirror_mode": {
    "name": "ipython",
    "version": 3
   },
   "file_extension": ".py",
   "mimetype": "text/x-python",
   "name": "python",
   "nbconvert_exporter": "python",
   "pygments_lexer": "ipython3",
   "version": "3.10.11"
  },
  "orig_nbformat": 4
 },
 "nbformat": 4,
 "nbformat_minor": 2
}
