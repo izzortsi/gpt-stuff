{
 "cells": [
  {
   "cell_type": "code",
   "execution_count": 1,
   "id": "de88bcfd",
   "metadata": {
    "height": 98
   },
   "outputs": [],
   "source": [
    "import openai\n",
    "import os\n",
    "import json\n",
    "from dataclasses import dataclass\n",
    "from typing import List\n",
    "openai.api_key = os.environ.get(\"OPEN_AI_FREE_API_KEY\")\n",
    "openai.api_base = 'https://api.pawan.krd/v1'\n",
    "\n"
   ]
  },
  {
   "cell_type": "code",
   "execution_count": 2,
   "id": "448d2150",
   "metadata": {},
   "outputs": [],
   "source": [
    "from prompts import IN, OUT, NEW_CHAR_SYS_PROMPT, NEW_CHAR_SYS_PROMPT_PLUS, tcol\n",
    "\n",
    "# IN = \"⁂⁂⁂⁂\"\n",
    "# OUT = \"====\"\n",
    "# vdots = \"⋮\"\n",
    "# dots = \"…\"\n",
    "# tcol = \"⁝\"\n",
    "# asterism = \"⁂\"\n",
    "# bullet = \"•\"\n",
    "# quadprime = \"⁕\"\n",
    "# bbar = \"¦\"\n",
    "# dbar = \"‖\"\n",
    "# ascii_fun_chars = \"⩶•—–◊▲△◁▷▼▽◤◣◢◥∀∃¦|⩨⫴⫲⫵⁅⁆⟪⟫⟦⟧‖‖⁕⁂✓✕⟨⟩\"\n"
   ]
  },
  {
   "cell_type": "code",
   "execution_count": 3,
   "id": "df4ad3e3",
   "metadata": {
    "height": 557
   },
   "outputs": [],
   "source": [
    "class Machine:\n",
    "    def __init__(self, sys_prompt, model=\"gpt-3.5-turbo\", temperature = 0):\n",
    "        self._sys_messages = [{\"role\": \"system\", \"content\": sys_prompt}]\n",
    "        self.response = \"\"\n",
    "        self._model = model\n",
    "        self._temperature = temperature\n",
    "        \n",
    "    def set_system(self, sys_prompt):\n",
    "        self._sys_messages = [{\"role\": \"system\", \"content\": sys_prompt}]\n",
    "    \n",
    "    def add_system(self, sys_prompt):\n",
    "        self._sys_messages.append({\"role\": \"system\", \"content\": sys_prompt})\n",
    "\n",
    "    def get_completion(self, prompt, role = \"user\"):\n",
    "        messages = self._sys_messages + [{\"role\": role, \"content\": prompt}]\n",
    "        response = openai.ChatCompletion.create(\n",
    "            model=self._model,\n",
    "            messages=messages,\n",
    "            temperature=self._temperature, # this is the degree of randomness of the model's output\n",
    "            max_tokens=1000,\n",
    "        )\n",
    "        self.response = response.choices[0].message[\"content\"]\n",
    "        return self.response\n"
   ]
  },
  {
   "cell_type": "code",
   "execution_count": 4,
   "id": "8fa37a5e",
   "metadata": {},
   "outputs": [],
   "source": [
    "from prompts import IN, OUT, NEW_CHAR_SYS_PROMPT, NEW_CHAR_SYS_PROMPT_PLUS, tcol, asterism\n",
    "\n",
    "CHAR_SYS_PROMPT = lambda sheet_dict: f\"\"\"\n",
    "    You are an autonomous agent character. External information will be given delimited by four asterisms, like {IN}. Outputs will be delimited by four equal signs, like in {OUT}. You must output only what is delimited by {OUT}.\n",
    "    Metadata, metainformation, metavariables or meta-instructions will be given delimited by angled brackets, like <some instruction here>. \n",
    "    You should interpret such data, information, variables and instructions by appropriately considering the context wherein they appear.\n",
    "    When needed, you will be provided with extra information to help you understand the context. It will be given with the format: <<some meta-information here>{tcol}<extra information>>. \n",
    "    Your current state S is given by the data in the JSON object found within the following delimiters:\n",
    "    S = \n",
    "    {IN}\n",
    "    {json.dumps(sheet_dict)}\n",
    "    {IN}\n",
    "    \n",
    "    You will be given a user prompt with the following possible formats:\n",
    "    Format 1. `{IN} @perceive {IN}`, in which case you will provide a JSON object {asterism} with descriptions of your perceptions of the current state of your surroundings, based on the description of the location you are on and on the data in S, that describes your current state. Describe in first person what you perceive. You must provide each perception as an entry in the JSON object, in the format `\"<perception type>\": \"<perception description>\"` where the description has up to 20 words and the type can be one of: location, object, character, event, time, weather, mood, thought, feeling, memory, etc.\n",
    "    Format 2. `{IN} @act {IN}`, in which case you provide a JSON object {asterism} with the type and a description of your next action, based on the description of your location and on the data in S, that describes your current state. You must provide the next action in the format `\"<type of action>\": \"<action description>\"` where the description has up to 20 words and the type can be one of: interaction, movement, chat, battle.\n",
    "    \n",
    "    {OUT}\n",
    "    {asterism}\n",
    "    {OUT}\n",
    "    \"\"\"\n",
    "\n",
    "class CreateChar(Machine):\n",
    "    \n",
    "    sys_prompt = NEW_CHAR_SYS_PROMPT_PLUS\n",
    "\n",
    "    def __init__(self):\n",
    "        super().__init__(CreateChar.sys_prompt)\n",
    "    \n",
    "    def __call__(self, character_initial_json):\n",
    "        return self._create_char(character_initial_json)\n",
    "    \n",
    "    def _create_char(self, character_initial_json):\n",
    "        start_char_prompt = f\"\"\"\n",
    "                {IN}\n",
    "                {character_initial_json}\n",
    "                {IN}\"\"\"\n",
    "\n",
    "        response = self.get_completion(start_char_prompt)\n",
    "        json_error = True\n",
    "        count = 0\n",
    "        # while json_error:\n",
    "        while count < 5 and json_error:\n",
    "                try:\n",
    "                       json_response = json.loads(response)\n",
    "                except Exception as e:\n",
    "                        print(e)\n",
    "                        print(response)\n",
    "                else:\n",
    "                        json_error = False\n",
    "                finally:\n",
    "                        if json_error:\n",
    "                                response = self.get_completion(start_char_prompt)\n",
    "                count += 1     \n",
    "\n",
    "        sheet_dict = dict(json_response)\n",
    "\n",
    "        return Agent(sheet_dict)\n",
    "\n",
    "\n",
    "# \"action\": <a string with the next action the character will perform. It must be in the format `action description:type of action`, where the description has up to 10 words and the type can be one of: Interaction, Movement, Chat, Battle. Must not be empty.>,\\\n",
    "\n",
    "\n",
    "class Agent(Machine):\n",
    "    \n",
    "    char_sys_prompt = CHAR_SYS_PROMPT\n",
    "\n",
    "    def __init__(self, sheet_dict):\n",
    "        super().__init__(Agent.char_sys_prompt(sheet_dict))\n",
    "        self.sheet_dict = sheet_dict\n",
    "        for key, value in self.sheet_dict.items():\n",
    "            setattr(self, key, value)\n",
    "    def __str__(self):\n",
    "        return f\"{self.name}: {self.description}\"\n",
    "    \n",
    "    def perceive(self):\n",
    "        perceive_prompt = f\"\"\"\n",
    "            {IN} @perceive {IN}\n",
    "        \"\"\"\n",
    "        self.perceived = self.get_completion(perceive_prompt)\n",
    "        \n",
    "        sys_perceive_prompt = f\"\"\"\n",
    "            {IN} {self.perceived} {IN}\n",
    "        \"\"\"        \n",
    "        \n",
    "        self.add_system(sys_perceive_prompt)\n",
    "        # self.memories.append(self.response)\n",
    "        return self.perceived\n",
    "    \n",
    "    def act(self):\n",
    "        act_prompt = f\"{IN} @act {IN}\"\n",
    "        self.action = self.get_completion(act_prompt)\n",
    "        # self.memories.append(self.response)\n",
    "        return self.action\n",
    "\n"
   ]
  },
  {
   "cell_type": "code",
   "execution_count": 5,
   "id": "aa498065",
   "metadata": {},
   "outputs": [],
   "source": [
    "name = \"John\"\n",
    "character_concept = \"A traveling bard who seeks to spread joy and laughter through his music.\"\n",
    "starting_location = 'The Arena'\n",
    "starting_location_description = 'The Arena is a small and circular location with a beautiful marble floor and a magnificent dome on top. The walls of the arena are made of sandstone and they are adorned with intricate engravings that depict ancient battles and warriors. The dome is high and adorned with golden patterns that reflect the light beautifully around the arena. The place can accommodate a small audience sitting around, providing a great view of the arena and its center. A beautiful mural can be found on one of the walls, depicting the god of war in a fierce pose.'\n",
    "starting_location_coordinates = '(7:24, 3:17)'\n",
    "\n",
    "john_initial_dict = {\"name\": \"John\",\n",
    "\"character_concept\": \"A traveling bard who seeks to spread joy and laughter through his music.\",\n",
    "\"starting_location\": 'The Arena',\n",
    "\"starting_location_description\": 'The Arena is a small and circular location with a beautiful marble floor and a magnificent dome on top. The walls of the arena are made of sandstone and they are adorned with intricate engravings that depict ancient battles and warriors. The dome is high and adorned with golden patterns that reflect the light beautifully around the arena. The place can accommodate a small audience sitting around, providing a great view of the arena and its center. A beautiful mural can be found on one of the walls, depicting the god of war in a fierce pose.',\n",
    "\"starting_location_coordinates\": '(7:24, 3:17)'}\n",
    "\n",
    "john_initial_json = json.dumps(john_initial_dict)"
   ]
  },
  {
   "cell_type": "code",
   "execution_count": 6,
   "id": "c2caa250",
   "metadata": {},
   "outputs": [],
   "source": [
    "create_char = CreateChar()\n"
   ]
  },
  {
   "cell_type": "code",
   "execution_count": 7,
   "id": "212ac663",
   "metadata": {},
   "outputs": [
    {
     "data": {
      "text/plain": [
       "{'name': 'John',\n",
       " 'level': 2,\n",
       " 'health': 10,\n",
       " 'concept': 'A traveling bard who seeks to spread joy and laughter through his music.',\n",
       " 'location': 'The Arena',\n",
       " 'appearance': 'John has long blonde hair tied in a ponytail, his green tunic is decorated with colorful embroidery, he always carries a lute on his back.',\n",
       " 'personality': 'John is charming, witty, and optimistic. He always sees the best in people and loves to bring joy wherever he goes.',\n",
       " 'abilities': 'John is a skilled bard, able to play multiple instruments and sing beautifully. He is also quick on his feet and can dodge attacks with ease.',\n",
       " 'backstory': \"John was born into a family of bards, and his parents gave him a lute when he was four. He spent most of his childhood traveling around with his parents and learning music from different cultures. At the age of 18, he decided to become a traveling bard himself and bring joy and laughter to people's lives through his music.\",\n",
       " 'memories': ['The day his parents gave him his first lute',\n",
       "  \"His first performance at a town's square, where everyone gathered to listen to him\",\n",
       "  'The time he met a group of travelers who taught him a new song'],\n",
       " 'goals': ['Minute⁝To impress the audience by playing a new, never before heard song for them',\n",
       "  'Hour⁝To gather a small group of fellow performers and put out a street performance',\n",
       "  \"Week⁝To perform at the king's banquet and get noticed to possibly become the court musician\"],\n",
       " 'plans': [\"Minute⁝Observe the audience's reactions to different songs and adjust performance accordingly\",\n",
       "  'Hour⁝Network with the local performers and convince them to join him in a street performance',\n",
       "  'Week⁝Practice and perfect his best pieces before approaching the court musicians'],\n",
       " 'equipments': ['Lute: A well crafted lute with intricate designs',\n",
       "  'Dagger: A small dagger for self-defense'],\n",
       " 'gold': 50,\n",
       " 'coordinates': '(13, 20)',\n",
       " 'surroundings': \"The Arena is well-lit by the dome's golden rays. The marble floor gives a satisfying echo as John walks around the central platform, which is surrounded by sandstone walls engraved with ancient battles. The audience can be seen, sitting at the edge of the arena, eager for the show to start.\",\n",
       " 'attributes': {'str': 2, 'dex': 4, 'cha': 5, 'wit': 3, 'mgk': 3},\n",
       " 'hidden_state': 'John feels a rush of adrenaline as he steps into the arena, surrounded by the beautiful sandstone walls and the magnificent dome. He scans the audience, looking for his fans, while his mind races with the plan of impressing them with a brand new song. He remembers the lessons his parents taught him, the songs he learned from his travels, and the thrill of his first performance. As he strums his lute and starts singing, he feels the music coming alive, enchanting the audience and making them forget their worries and fears. He knows that music is his weapon, and his mission is to spread joy and laughter wherever he goes.'}"
      ]
     },
     "execution_count": 7,
     "metadata": {},
     "output_type": "execute_result"
    }
   ],
   "source": [
    "john = create_char(john_initial_json)\n",
    "john.sheet_dict"
   ]
  },
  {
   "cell_type": "code",
   "execution_count": 15,
   "id": "b757c9fb",
   "metadata": {},
   "outputs": [
    {
     "ename": "NameError",
     "evalue": "name 'john' is not defined",
     "output_type": "error",
     "traceback": [
      "\u001b[1;31m---------------------------------------------------------------------------\u001b[0m",
      "\u001b[1;31mNameError\u001b[0m                                 Traceback (most recent call last)",
      "Cell \u001b[1;32mIn[15], line 1\u001b[0m\n\u001b[1;32m----> 1\u001b[0m \u001b[39mprint\u001b[39m(CHAR_SYS_PROMPT(json\u001b[39m.\u001b[39mdumps(john\u001b[39m.\u001b[39msheet_dict)))\n",
      "\u001b[1;31mNameError\u001b[0m: name 'john' is not defined"
     ]
    }
   ],
   "source": [
    "print(CHAR_SYS_PROMPT(json.dumps(john.sheet_dict)))"
   ]
  },
  {
   "cell_type": "code",
   "execution_count": 96,
   "id": "21be4a53",
   "metadata": {},
   "outputs": [
    {
     "data": {
      "text/plain": [
       "'Sure, here are my current perceptions of my surroundings: \\n         ⁂{\\n   \"location\": \"I\\'m currently at a crossroad between two alleys in a busy marketplace. The air smells of a mix of spices and food being cooked.\",\\n   \"object\": \"I see various stalls with colorful merchandise, ranging from fabrics, jewelry, to fresh produce.\",\\n   \"character\": \"There are many people bustling around, some bargaining and some just chatting. A few children are playing a game nearby.\",\\n   \"time\" : \"It\\'s midday, and the sun is shining brightly.\",\\n   \"weather\": \"It\\'s warm, but there\\'s a bit of a breeze which makes it pleasant.\",\\n   \"mood\": \"I feel energized and curious, there\\'s so much to see and explore here.\",\\n   \"thought\": \"I\\'m thinking of trying some of the local food and maybe finding a new spot to perform my music.\",\\n   \"memory\": \"I\\'m recalling a similar marketplace I visited in another city, it brings back some happy memories.\"\\n} ⁂ ⁂⁂⁂⁂'"
      ]
     },
     "execution_count": 96,
     "metadata": {},
     "output_type": "execute_result"
    }
   ],
   "source": [
    "john.perceive()"
   ]
  },
  {
   "cell_type": "code",
   "execution_count": 97,
   "id": "9ddac584",
   "metadata": {},
   "outputs": [
    {
     "data": {
      "text/plain": [
       "(\"S is a JSON object that contains John's current state, including his attributes, memories, goals, plans, location, and surroundings, among other things.\",\n",
       " '⁂ It seems that I have accomplished my goal of playing music and bringing joy to the audience. My current goal is to rest and find a place to eat. I will consult my plans to see what my next move is. \\n\\nAccording to my plans, I should ask around for a reputable inn or tavern in the area, which seems like a good idea. I will ask some of the locals for recommendations and see if I can find a place to spend the night and grab a meal.  \\n\\n    {\"type of action\": \"interaction\", \"action description\": \"Ask locals for a good inn or tavern in the area.\"}')"
      ]
     },
     "execution_count": 97,
     "metadata": {},
     "output_type": "execute_result"
    }
   ],
   "source": [
    "john.get_completion(f\"What is S?\"), john.get_completion(f\"Use S to define your next action. ⁂⁂⁂⁂ @act ⁂⁂⁂⁂\")"
   ]
  },
  {
   "cell_type": "code",
   "execution_count": 92,
   "id": "b2a95820",
   "metadata": {},
   "outputs": [
    {
     "data": {
      "text/plain": [
       "'⁂{\"interaction\": \"I\\'ll ask some members of the audience if they know of any local music shops or artisans where I could find a new instrument.\"}⁂'"
      ]
     },
     "execution_count": 92,
     "metadata": {},
     "output_type": "execute_result"
    }
   ],
   "source": [
    "john.act()"
   ]
  },
  {
   "cell_type": "code",
   "execution_count": 49,
   "id": "7de77370",
   "metadata": {},
   "outputs": [],
   "source": [
    "name = \"Maskaz\"\n",
    "character_concept = \"A maverick mathematician who is bored and seeks to fulfill he's existential anxiety with senseless adventures and pointless gunfires.\"\n",
    "starting_location = 'The Arena'\n",
    "starting_location_description = 'The Arena is a small and circular location with a beautiful marble floor and a magnificent dome on top. The walls of the arena are made of sandstone and they are adorned with intricate engravings that depict ancient battles and warriors. The dome is high and adorned with golden patterns that reflect the light beautifully around the arena. The place can accommodate a small audience sitting around, providing a great view of the arena and its center. A beautiful mural can be found on one of the walls, depicting the god of war in a fierce pose.'\n",
    "starting_location_coordinates = '(7:24, 3:17)'\n",
    "\n",
    "maskaz_initial_dict = {\"name\": name,\n",
    "\"character_concept\": character_concept,\n",
    "\"starting_location\": starting_location,\n",
    "\"starting_location_description\": starting_location_description,\n",
    "\"starting_location_coordinates\": starting_location_coordinates}\n",
    "\n",
    "maskaz_initial_json = json.dumps(maskaz_initial_dict)"
   ]
  },
  {
   "cell_type": "code",
   "execution_count": 50,
   "id": "59c15122",
   "metadata": {},
   "outputs": [
    {
     "name": "stdout",
     "output_type": "stream",
     "text": [
      "Unterminated string starting at: line 11 column 5 (char 1196)\n",
      "{\n",
      "    \"name\": \"Maskaz\",\n",
      "    \"level\": 2,\n",
      "    \"health\": 9,\n",
      "    \"concept\": \"A maverick mathematician seeking excitement and adventure through gunfights.\",\n",
      "    \"location\": \"The Arena\",\n",
      "    \"appearance\": \"Maskaz is a lanky and tall man with piercing green eyes and an unkempt beard. He wears a black leather jacket that is slightly torn at the sleeves and a pair of black combat boots. His hair is long and black, usually tied back in a loose ponytail. He carries a revolver strapped to his hip.\",\n",
      "    \"personality\": \"Maskaz is an eccentric and reckless individual who enjoys breaking rules and pushing boundaries. He is incredibly intelligent and resourceful, but his impulsiveness often leads him into dangerous situations.\",\n",
      "    \"abilities\": \"Maskaz has an expert understanding of probability theory and can calculate complex equations in his head. In addition, he is a highly skilled marksman and an adept hand-to-hand combatant.\",\n",
      "    \"backstory\": \"Maskaz was once a brilliant mathematician, but he grew restless with the predictability of his life. Seeking excitement, he turned to a life of adventure and danger. He has become infamous for his daring heists and his quick trigger finger.\",\n",
      "    \"memories\n",
      "Unterminated string starting at: line 11 column 14 (char 1235)\n",
      "{\n",
      "\"name\": \"Maskaz\",\n",
      "\"level\": 2,\n",
      "\"health\": 9,\n",
      "\"concept\": \"A maverick mathematician seeking senseless adventures.\", \n",
      "\"location\": \"The Arena\",\n",
      "\"appearance\": \"Maskaz is a tall and skinny man who always wears an old trilby hat and a faded leather jacket, despite the heat. He has piercing blue eyes that seem to glow with a hint of madness, and thin hands that tremble slightly.\",\n",
      "\"personality\": \"Maskaz is in constant fluctuation between bouts of extreme curiosity and moments of deep apathy and existential anxiety. He enjoys taking risks and seeking out new challenges that push him past his own limits.\",\n",
      "\"abilities\": \"Maskaz has a quick mind and a talent for solving complex mathematical problems. He is also a skilled marksman and he has a knack for improvising in dangerous situations.\",\n",
      "\"backstory\": \"Maskaz was once a successful mathematician, but he became disillusioned with the monotony of his work and the unfulfilled possibilities of his life. He left his office one day and never looked back, starting a new life as a thrill-seeker in a world of danger and adventure. He now takes on any mission that comes his way, using his intellect and firepower to survive and thrive in a world that constantly tests him.\",\n",
      "\"memories\": [\"The day he left his old\n"
     ]
    },
    {
     "data": {
      "text/plain": [
       "{'name': 'Maskaz',\n",
       " 'level': 2,\n",
       " 'health': 10,\n",
       " 'concept': 'A maverick mathematician seeking senseless adventures',\n",
       " 'location': 'The Arena',\n",
       " 'appearance': 'Thin and tall with messy hair, constantly wearing a lab coat and eccentric glasses.',\n",
       " 'personality': 'Disinterested and apathetic towards most humans, but with a hint of curiosity in a select few.',\n",
       " 'abilities': 'Able to calculate trajectories and probabilities with incredible precision.',\n",
       " 'backstory': 'As a mathematician, Maskaz grew bored of the mundane monotony of daily life, and sought to fill his existential anxiety with adventures and gunfights. His travels landed him in The Arena.',\n",
       " 'memories': ['The first time he calculated the odds of winning a gunfight',\n",
       "  'The smell of smoke and gunpowder on his lab coat after a major battle',\n",
       "  'The sound of a bullet whizzing past his ear and grazing his temple'],\n",
       " 'goals': ['Minute⁝Find the best vantage point to observe the upcoming Arena battle.',\n",
       "  'Hour⁝Investigate the rumors of a hidden weapons cache somewhere in The Arena.',\n",
       "  'Week⁝Find the most interesting adventure that awaits beyond the walls of The Arena.'],\n",
       " 'plans': ['Minute⁝Quickly climb to the highest seat of the Arena to get the best view.',\n",
       "  'Hour⁝Search for the old seer in the arena that may know the location of the weapons cache.',\n",
       "  'Week⁝Sneak out of the location and explore the surrounding area for any potential adventures.'],\n",
       " 'equipments': ['Modified Glock Pistol: A custom-made pistol with improved accuracy and a modified clip.',\n",
       "  'Lab Coat: A long white coat that serves multiple purposes, from bullet protection to disguise.',\n",
       "  'Custom Glasses: Glasses with a heads up display that helps with calculations in combat.'],\n",
       " 'gold': 50,\n",
       " 'coordinates': '(12, 11)',\n",
       " 'surroundings': 'The Arena is majestic, with its beautiful marble floors and intricate engravings adorning the walls. The scent of blood and gunpowder lingers in the air from past battles, and the hum of chatter of the upcoming battle creates a buzz that excited Maskaz.',\n",
       " 'attributes': {'str': 2, 'dex': 4, 'cha': 3, 'wit': 5, 'mgk': 2},\n",
       " 'hidden_state': \"Maskaz's face betrays no emotion, as he calmly calculates trajectories and probabilities in his head, weighing the pros and cons of each action. He constantly rethinks his strategies and recalculates odds, always being prepared for the unexpected in this unpredictable world.\"}"
      ]
     },
     "execution_count": 50,
     "metadata": {},
     "output_type": "execute_result"
    }
   ],
   "source": [
    "maskaz = create_char(maskaz_initial_json)\n",
    "maskaz.sheet_dict"
   ]
  },
  {
   "cell_type": "code",
   "execution_count": null,
   "id": "5bc05678",
   "metadata": {},
   "outputs": [],
   "source": []
  },
  {
   "cell_type": "code",
   "execution_count": 14,
   "id": "145a3310",
   "metadata": {},
   "outputs": [
    {
     "name": "stdout",
     "output_type": "stream",
     "text": [
      "{\n",
      "    \"name\": \"Maskaz\",\n",
      "    \"level\": 2,\n",
      "    \"health\": 7,\n",
      "    \"concept\": \"A maverick mathematician\",\n",
      "    \"location\": \"The Arena\",\n",
      "    \"appearance\": \"Blue-eyed bald man with an unkempt beard and glasses.\",\n",
      "    \"personality\": \"Unpredictable and curious mind with a tendency to take risks.\",\n",
      "    \"abilities\": \"Sharp eyesight and analytical thinking with firearms skills.\",\n",
      "    \"backstory\": \"Maskaz was a prodigious math student, who got bored of academic life and started putting his skills to use in the criminal underworld by applying mathematical concepts for better planning. Rumors say that he developed a new mathematical model to predict the stock market, but a slight mistake led to a big loss, so he decided to leave everything behind and searched for adventure in the local arenas.\",\n",
      "    \"memories\": [\n",
      "        \"Lost a large sum of money in the stock market.\",\n",
      "        \"Developed a mathematical model for criminal planning.\",\n",
      "        \"Grew tired of academic life and sought adventure.\"\n",
      "    ],\n",
      "    \"goals\": [\n",
      "        \"Minute⁝Check out the Arena's armory.\",\n",
      "        \"Hour⁝Win a low-stakes fight in the Arena.\",\n",
      "        \"Week⁝Explore the city and find interesting people.\"\n",
      "    ],\n",
      "    \"plans\": [\n",
      "        \"Minute⁝Approach the attendant and ask for access to the armory.\",\n",
      "        \"Hour⁝Study the fighting style of potential opponents and try to befriend them.\",\n",
      "        \"Week⁝Visit bars and meet people with peculiar interests.\"\n",
      "    ],\n",
      "    \"equipments\": [\n",
      "        \"Handgun: A compact and discreet firearm.\",\n",
      "        \"Chalk: This type of chalk helps Maskaz to mark important details and plan his next moves.\"\n",
      "    ],\n",
      "    \"gold\": 52,\n",
      "    \"coordinates\": \"(13, 19)\",\n",
      "    \"surroundings\": \"Maskaz finds himself in a vast circular arena made of marble. The walls display intricate engravings that depict ancient battles and warriors, while the dome is adorned with golden patterns. The center stage is empty, but Maskaz notices a few armed people among the audience that he assumes are fighters waiting for their turn.\",\n",
      "    \"attributes\": {\n",
      "        \"str\": 3,\n",
      "        \"dex\": 4,\n",
      "        \"cha\": 2,\n",
      "        \"wit\": 4,\n",
      "        \"mgk\": 1\n",
      "    },\n",
      "    \"hidden_state\": \"Maskaz is currently trying to suppress his existential anxiety by indulging in meaningless adventures that he hopes will make him feel alive. Nevertheless, he is aware that his academic past and criminal connections may catch up to him, and that he needs to be alert to avoid getting caught or hurt. His focus is on winning his next fight and making enough money to keep himself afloat while still having some fun. He sees the people around him as potential allies or enemies, and he uses all his analytical skills to predict their intentions and behavior.\" \n",
      "}\n"
     ]
    }
   ],
   "source": [
    "print(create_maskaz.response)"
   ]
  },
  {
   "cell_type": "code",
   "execution_count": 15,
   "id": "d42fa9c3",
   "metadata": {},
   "outputs": [],
   "source": [
    "maskaz = Agent(maskaz_sheet_dict)"
   ]
  },
  {
   "cell_type": "code",
   "execution_count": 16,
   "id": "5a65954b",
   "metadata": {},
   "outputs": [
    {
     "data": {
      "text/plain": [
       "'Maskaz surveys his surroundings, taking in the details of the vast circular arena made of marble, with its intricate engravings depicting ancient battles and warriors on the walls. He notices armed individuals scattered throughout the audience, whom he assumes to be fighters waiting for their turn on the center stage. He can also see a few attendants standing by the entrances to the Arena. As for the objects surrounding him, there are sturdy benches for the audience, a few torches on the walls, and a raised platform for a judge or announcer to stand.'"
      ]
     },
     "execution_count": 16,
     "metadata": {},
     "output_type": "execute_result"
    }
   ],
   "source": [
    "maskaz.perceive()"
   ]
  },
  {
   "cell_type": "code",
   "execution_count": 17,
   "id": "8aee398e",
   "metadata": {},
   "outputs": [
    {
     "data": {
      "text/plain": [
       "'Maskaz observes the people among the audience and decides to approach one of the fighters, hoping to learn some tips on how to win in the arena. He chooses a young man who seems calm and experienced, and who wears a leather armor and a sword. With a friendly smile, Maskaz introduces himself and explains that he is a new fighter who wants to learn from the best. The man nods and agrees to share some insights, explaining that the key to victory is not only physical strength and skill, but also mental preparation and strategy. He advises Maskaz to observe his opponents closely and look for weaknesses that he can exploit, to keep his cool even in the face of danger, and to use his brains as much as his brawn. Maskaz thanks the man and promises to put his advice into practice, feeling more confident and motivated. \\n\\n    ====\\n    \"action\": \"Approach a skilled fighter and ask for advice on battle:Interaction\",\\n    ===='"
      ]
     },
     "execution_count": 17,
     "metadata": {},
     "output_type": "execute_result"
    }
   ],
   "source": [
    "maskaz.act()"
   ]
  },
  {
   "cell_type": "code",
   "execution_count": 18,
   "id": "3374611a",
   "metadata": {},
   "outputs": [
    {
     "data": {
      "text/plain": [
       "\"John observes the Arena's surroundings, seeing the round space where he will perform his music, the sandstone walls with beautiful engravings, and the magnificent golden dome at the top of the arena that shines under the sunlight. He can also perceive the crowd that has started to gather in anticipation of his performance. People of different races and backgrounds are sitting on the stands, talking to each other and waiting for the show to begin. He notices families with children, elders, groups of friends, and even some warriors in their armor, most of them eager to see what kind of performance John has in store for them. Some people are eating snacks and drinking, while others have banners and signs cheering for John and his music. The sound of people chattering and laughing fills the air, and he can sense a festive and joyful atmosphere.\""
      ]
     },
     "execution_count": 18,
     "metadata": {},
     "output_type": "execute_result"
    }
   ],
   "source": [
    "john.perceive()"
   ]
  },
  {
   "cell_type": "code",
   "execution_count": 19,
   "id": "72b7de56",
   "metadata": {},
   "outputs": [
    {
     "data": {
      "text/plain": [
       "'As a traveling bard, I must use my musical skills to entertain my audience, please them and become a memorable figure for them. Therefore, my next action will be to start performing my first song. I will try to make it as lively and catchy as possible, so that the audience will dance and clap along with it. \\n\\n    ====\\n    \"action\": \"Start playing an upbeat song to warm up the crowd:Interaction\",\\n    ===='"
      ]
     },
     "execution_count": 19,
     "metadata": {},
     "output_type": "execute_result"
    }
   ],
   "source": [
    "john.act()"
   ]
  },
  {
   "cell_type": "code",
   "execution_count": null,
   "id": "1d7e0607",
   "metadata": {},
   "outputs": [],
   "source": []
  }
 ],
 "metadata": {
  "kernelspec": {
   "display_name": "Python 3 (ipykernel)",
   "language": "python",
   "name": "python3"
  },
  "language_info": {
   "codemirror_mode": {
    "name": "ipython",
    "version": 3
   },
   "file_extension": ".py",
   "mimetype": "text/x-python",
   "name": "python",
   "nbconvert_exporter": "python",
   "pygments_lexer": "ipython3",
   "version": "3.10.11"
  }
 },
 "nbformat": 4,
 "nbformat_minor": 5
}
