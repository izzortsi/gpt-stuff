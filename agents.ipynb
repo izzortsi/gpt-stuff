{
 "cells": [
  {
   "cell_type": "code",
   "execution_count": 1,
   "id": "de88bcfd",
   "metadata": {
    "height": 98
   },
   "outputs": [],
   "source": [
    "import openai\n",
    "import os\n",
    "import json\n",
    "from dataclasses import dataclass\n",
    "from typing import List\n",
    "# openai.api_key = os.environ.get(\"OPEN_AI_FREE_API_KEY\")\n",
    "openai.api_base = 'https://api.pawan.krd/v1'\n",
    "openai.api_key = \"pk-gJLIzltadzOmCjcGgkvKCLALZbXxBwwJkeyGuJcxYSSdWZDK\"\n"
   ]
  },
  {
   "cell_type": "code",
   "execution_count": 2,
   "id": "448d2150",
   "metadata": {},
   "outputs": [],
   "source": [
    "from prompts import IN, OUT, NEW_CHAR_SYS_PROMPT, NEW_CHAR_SYS_PROMPT_PLUS, tcol\n",
    "\n",
    "# IN = \"⁂⁂⁂⁂\"\n",
    "# OUT = \"====\"\n",
    "# vdots = \"⋮\"\n",
    "# dots = \"…\"\n",
    "# tcol = \"⁝\"\n",
    "# asterism = \"⁂\"\n",
    "# bullet = \"•\"\n",
    "# quadprime = \"⁕\"\n",
    "# bbar = \"¦\"\n",
    "# dbar = \"‖\"\n",
    "# ascii_fun_chars = \"⩶•—–◊▲△◁▷▼▽◤◣◢◥∀∃¦|⩨⫴⫲⫵⁅⁆⟪⟫⟦⟧‖‖⁕⁂✓✕⟨⟩\"\n"
   ]
  },
  {
   "cell_type": "code",
   "execution_count": 3,
   "id": "df4ad3e3",
   "metadata": {
    "height": 557
   },
   "outputs": [],
   "source": [
    "class Machine:\n",
    "    def __init__(self, sys_prompt, model=\"gpt-3.5-turbo\", temperature = 0):\n",
    "        self._sys_messages = [{\"role\": \"system\", \"content\": sys_prompt}]\n",
    "        self.response = \"\"\n",
    "        self._model = model\n",
    "        self._temperature = temperature\n",
    "        \n",
    "    def set_system(self, sys_prompt):\n",
    "        self._sys_messages = [{\"role\": \"system\", \"content\": sys_prompt}]\n",
    "    \n",
    "    def add_system(self, sys_prompt):\n",
    "        self._sys_messages.append({\"role\": \"system\", \"content\": sys_prompt})\n",
    "\n",
    "    def get_completion(self, prompt, role = \"user\"):\n",
    "        messages = self._sys_messages + [{\"role\": role, \"content\": prompt}]\n",
    "        response = openai.ChatCompletion.create(\n",
    "            model=self._model,\n",
    "            messages=messages,\n",
    "            temperature=self._temperature, # this is the degree of randomness of the model's output\n",
    "            max_tokens=500,\n",
    "        )\n",
    "        self.response = response.choices[0].message[\"content\"]\n",
    "        return self.response\n"
   ]
  },
  {
   "cell_type": "code",
   "execution_count": 11,
   "id": "8fa37a5e",
   "metadata": {},
   "outputs": [],
   "source": [
    "from prompts import IN, OUT, NEW_CHAR_SYS_PROMPT, NEW_CHAR_SYS_PROMPT_IMPROVED, NEW_CHAR_SYS_PROMPT_PLUS, tcol\n",
    "\n",
    "class CreateChar(Machine):\n",
    "    \n",
    "    sys_prompt = NEW_CHAR_SYS_PROMPT_PLUS\n",
    "\n",
    "    def __init__(self, character_initial_json):\n",
    "        super().__init__(CreateChar.sys_prompt)\n",
    "        start_char_prompt = f\"\"\"\n",
    "                {IN}\n",
    "                {character_initial_json}\n",
    "                {IN}\"\"\"\n",
    "\n",
    "        self.response = self.get_completion(start_char_prompt)\n",
    "        json_error = True\n",
    "        count = 0\n",
    "        # while json_error:\n",
    "        while count < 5 and json_error:\n",
    "                try:\n",
    "                       self.json_response = json.loads(self.response)\n",
    "                except Exception as e:\n",
    "                        print(e)\n",
    "                        print(self.response)\n",
    "                else:\n",
    "                        json_error = False\n",
    "                finally:\n",
    "                        if json_error:\n",
    "                                self.response = self.get_completion(start_char_prompt)\n",
    "                count += 1     \n",
    "                \n",
    "        self.sheet_dict = dict(self.json_response)\n",
    "\n",
    "# \"action\": <a string with the next action the character will perform. It must be in the format `action description:type of action`, where the description has up to 10 words and the type can be one of: Interaction, Movement, Chat, Battle. Must not be empty.>,\\\n",
    "\n",
    "\n",
    "class Agent(Machine):\n",
    "    char_sys_prompt = lambda sheet_dict: f\"\"\"\n",
    "        You are an autonomous agent character. External information will be given delimited by four asterisms, like {IN}. Outputs will be delimited by four equal signs, like in {OUT}.\n",
    "        Metadata, metainformation, metavariables or meta-instructions will be given delimited by angled brackets, like <some instruction here>. \n",
    "        You should interpret such data, information, variables and instructions by appropriately considering the context wherein they appear.\n",
    "        When needed, you will be provided with extra information to help you understand the context. It will be given with the format: <some meta-information here{tcol}<extra information>>. \n",
    "        Your current state is given by the data in the JSON object found within the following delimiters:\n",
    "        {IN}\n",
    "        {sheet_dict}\n",
    "        {IN}\n",
    "        \n",
    "        You will be given a user prompt with the following possible formats:\n",
    "        {IN} @perceive {IN} in which case you provide a description of the current state of the world at your surroundings, based on the description of the location and on your state data. Make sure to list all perceived objects and characters, and all relations between them, and inferences about them.\n",
    "        {IN} @act {IN} in which case you provide a description of next single action, based on all the information available about your current state, about your surroundings and about possible other agents and/or objects in the vicinities.\n",
    "        You must provide the next action you take in the following format:\n",
    "        {OUT}\n",
    "        \"action\": <a string with the next action the character will perform. It must be in the format `action description:type of action`, where the description has up to 20 words and the type can be one of: Interaction, Movement, Chat, Battle. Must not be empty.>,\n",
    "        {OUT}\n",
    "        \"\"\"\n",
    "    def __init__(self, sheet_dict):\n",
    "        super().__init__(Agent.char_sys_prompt(sheet_dict))\n",
    "        self.sheet_dict = sheet_dict\n",
    "        for key, value in self.sheet_dict.items():\n",
    "            setattr(self, key, value)\n",
    "    def __str__(self):\n",
    "        return f\"{self.name}: {self.description}\"\n",
    "    \n",
    "    def perceive(self):\n",
    "        perceive_prompt = f\"\"\"\n",
    "            {IN} @perceive {IN}\n",
    "        \"\"\"\n",
    "        self.perceived = self.get_completion(perceive_prompt)\n",
    "        # self.memories.append(self.response)\n",
    "        return self.perceived\n",
    "    \n",
    "    def act(self):\n",
    "        perceive_prompt = f\"\"\"\n",
    "            {IN} @act {IN}\n",
    "        \"\"\"\n",
    "        self.action = self.get_completion(perceive_prompt)\n",
    "        # self.memories.append(self.response)\n",
    "        return self.action\n",
    "\n"
   ]
  },
  {
   "cell_type": "code",
   "execution_count": 12,
   "id": "aa498065",
   "metadata": {},
   "outputs": [],
   "source": [
    "name = \"John\"\n",
    "character_concept = \"A traveling bard who seeks to spread joy and laughter through his music.\"\n",
    "starting_location = 'The Arena'\n",
    "starting_location_description = 'The Arena is a small and circular location with a beautiful marble floor and a magnificent dome on top. The walls of the arena are made of sandstone and they are adorned with intricate engravings that depict ancient battles and warriors. The dome is high and adorned with golden patterns that reflect the light beautifully around the arena. The place can accommodate a small audience sitting around, providing a great view of the arena and its center. A beautiful mural can be found on one of the walls, depicting the god of war in a fierce pose.'\n",
    "starting_location_coordinates = '(7:24, 3:17)'\n",
    "\n",
    "john_initial_dict = {\"name\": \"John\",\n",
    "\"character_concept\": \"A traveling bard who seeks to spread joy and laughter through his music.\",\n",
    "\"starting_location\": 'The Arena',\n",
    "\"starting_location_description\": 'The Arena is a small and circular location with a beautiful marble floor and a magnificent dome on top. The walls of the arena are made of sandstone and they are adorned with intricate engravings that depict ancient battles and warriors. The dome is high and adorned with golden patterns that reflect the light beautifully around the arena. The place can accommodate a small audience sitting around, providing a great view of the arena and its center. A beautiful mural can be found on one of the walls, depicting the god of war in a fierce pose.',\n",
    "\"starting_location_coordinates\": '(7:24, 3:17)'}\n",
    "\n",
    "john_initial_json = json.dumps(john_initial_dict)"
   ]
  },
  {
   "cell_type": "code",
   "execution_count": 13,
   "id": "c2caa250",
   "metadata": {},
   "outputs": [
    {
     "name": "stdout",
     "output_type": "stream",
     "text": [
      "{'name': 'John', 'level': 2, 'health': 7, 'concept': 'A traveling bard who seeks to spread joy and laughter through his music.', 'location': 'The Arena', 'appearance': 'Young, flamboyant bard with a colorful outfit and a lute.', 'personality': 'Charismatic, outgoing, and empathetic.', 'abilities': 'Skilled in music and storytelling, able to control crowds.', 'backstory': 'John grew up in a poor village and discovered his passion for music at an early age. He left home to become a bard, spreading joy and laughter wherever he goes.', 'memories': ['The joy on the faces of his first audience', \"The sound of his mother's voice singing to him at night\", 'The smell of the spring flowers in his village'], 'goals': ['Minute⁝Entertain the audience with a new song', 'Hour⁝Find a wealthy patron to sponsor his travels', 'Week⁝Discover a lost song that can win the hearts of even the toughest audience'], 'plans': ['Minute⁝Start a lively tune and encourage audience participation', 'Hour⁝Find a noble willing to support the arts and host a private concert', 'Week⁝Search for old manuscripts and visit ancient bardic sites to learn forgotten songs'], 'equipments': ['Lute: A beautifully crafted lute with intricate designs and great sound.'], 'gold': 25, 'coordinates': '(10, 23)', 'surroundings': 'The arena is crowded with people sitting on bleachers, expectant for the upcoming performance. The sandstone walls provide a stark contrast to the white marble floor, and the high dome reflects the light, illuminating the central stage where John will perform.', 'attributes': {'str': 3, 'dex': 4, 'cha': 5, 'wit': 3, 'mgk': 2}, 'hidden_state': 'John feels nervous but excited for the upcoming performance. He is confident in his ability to entertain the crowd and hopes to find a wealthy sponsor to aid his travels, as he dreams of discovering a lost song that will be remembered for centuries.'}\n"
     ]
    }
   ],
   "source": [
    "create_john = CreateChar(john_initial_json)\n",
    "print(create_john.json_response)\n",
    "john_sheet_dict = create_john.sheet_dict"
   ]
  },
  {
   "cell_type": "code",
   "execution_count": 14,
   "id": "9eed04fb",
   "metadata": {},
   "outputs": [],
   "source": [
    "john= Agent(john_sheet_dict)"
   ]
  },
  {
   "cell_type": "code",
   "execution_count": 15,
   "id": "212ac663",
   "metadata": {},
   "outputs": [
    {
     "data": {
      "text/plain": [
       "{'name': 'John',\n",
       " 'level': 2,\n",
       " 'health': 7,\n",
       " 'concept': 'A traveling bard who seeks to spread joy and laughter through his music.',\n",
       " 'location': 'The Arena',\n",
       " 'appearance': 'Young, flamboyant bard with a colorful outfit and a lute.',\n",
       " 'personality': 'Charismatic, outgoing, and empathetic.',\n",
       " 'abilities': 'Skilled in music and storytelling, able to control crowds.',\n",
       " 'backstory': 'John grew up in a poor village and discovered his passion for music at an early age. He left home to become a bard, spreading joy and laughter wherever he goes.',\n",
       " 'memories': ['The joy on the faces of his first audience',\n",
       "  \"The sound of his mother's voice singing to him at night\",\n",
       "  'The smell of the spring flowers in his village'],\n",
       " 'goals': ['Minute⁝Entertain the audience with a new song',\n",
       "  'Hour⁝Find a wealthy patron to sponsor his travels',\n",
       "  'Week⁝Discover a lost song that can win the hearts of even the toughest audience'],\n",
       " 'plans': ['Minute⁝Start a lively tune and encourage audience participation',\n",
       "  'Hour⁝Find a noble willing to support the arts and host a private concert',\n",
       "  'Week⁝Search for old manuscripts and visit ancient bardic sites to learn forgotten songs'],\n",
       " 'equipments': ['Lute: A beautifully crafted lute with intricate designs and great sound.'],\n",
       " 'gold': 25,\n",
       " 'coordinates': '(10, 23)',\n",
       " 'surroundings': 'The arena is crowded with people sitting on bleachers, expectant for the upcoming performance. The sandstone walls provide a stark contrast to the white marble floor, and the high dome reflects the light, illuminating the central stage where John will perform.',\n",
       " 'attributes': {'str': 3, 'dex': 4, 'cha': 5, 'wit': 3, 'mgk': 2},\n",
       " 'hidden_state': 'John feels nervous but excited for the upcoming performance. He is confident in his ability to entertain the crowd and hopes to find a wealthy sponsor to aid his travels, as he dreams of discovering a lost song that will be remembered for centuries.'}"
      ]
     },
     "execution_count": 15,
     "metadata": {},
     "output_type": "execute_result"
    }
   ],
   "source": [
    "json.loads(create_john.response)"
   ]
  },
  {
   "cell_type": "code",
   "execution_count": 16,
   "id": "21be4a53",
   "metadata": {},
   "outputs": [
    {
     "data": {
      "text/plain": [
       "\"I look around at my surroundings and perceive that I'm currently in The Arena, a place where people gather to watch performances. The walls are made of sandstone and the white marble floor contrasts with it sharply. I notice a high dome above which reflects the light, illuminating a central stage where I'm going to perform soon. The bleachers are crowded with expectant people, eagerly waiting for my show.\""
      ]
     },
     "execution_count": 16,
     "metadata": {},
     "output_type": "execute_result"
    }
   ],
   "source": [
    "john.perceive()"
   ]
  },
  {
   "cell_type": "code",
   "execution_count": 17,
   "id": "9ddac584",
   "metadata": {},
   "outputs": [
    {
     "data": {
      "text/plain": [
       "'Based on my current state and surroundings, I think the best course of action would be to begin my performance. I will aim to entertain the crowd, increase my reputation, and hopefully attract a wealthy patron to sponsor my travels. \\n\\n====\\n\"action\": \"Start playing an energetic tune to attract the audience and encourage participation. :Interaction\",'"
      ]
     },
     "execution_count": 17,
     "metadata": {},
     "output_type": "execute_result"
    }
   ],
   "source": [
    "john.act()"
   ]
  },
  {
   "cell_type": "code",
   "execution_count": 18,
   "id": "7de77370",
   "metadata": {},
   "outputs": [],
   "source": [
    "name = \"Maskaz\"\n",
    "character_concept = \"A maverick mathematician who is bored and seeks to fulfill he's existential anxiety with senseless adventures and pointless gunfires.\"\n",
    "starting_location = 'The Arena'\n",
    "starting_location_description = 'The Arena is a small and circular location with a beautiful marble floor and a magnificent dome on top. The walls of the arena are made of sandstone and they are adorned with intricate engravings that depict ancient battles and warriors. The dome is high and adorned with golden patterns that reflect the light beautifully around the arena. The place can accommodate a small audience sitting around, providing a great view of the arena and its center. A beautiful mural can be found on one of the walls, depicting the god of war in a fierce pose.'\n",
    "starting_location_coordinates = '(7:24, 3:17)'\n",
    "\n",
    "maskaz_initial_dict = {\"name\": name,\n",
    "\"character_concept\": character_concept,\n",
    "\"starting_location\": starting_location,\n",
    "\"starting_location_description\": starting_location_description,\n",
    "\"starting_location_coordinates\": starting_location_coordinates}\n",
    "\n",
    "maskaz_initial_json = json.dumps(maskaz_initial_dict)"
   ]
  },
  {
   "cell_type": "code",
   "execution_count": 19,
   "id": "5bc05678",
   "metadata": {},
   "outputs": [
    {
     "data": {
      "text/plain": [
       "('{\"name\": \"Maskaz\", \"character_concept\": \"A maverick mathematician who is bored and seeks to fulfill he\\'s existential anxiety with senseless adventures and pointless gunfires.\", \"starting_location\": \"The Arena\", \"starting_location_description\": \"The Arena is a small and circular location with a beautiful marble floor and a magnificent dome on top. The walls of the arena are made of sandstone and they are adorned with intricate engravings that depict ancient battles and warriors. The dome is high and adorned with golden patterns that reflect the light beautifully around the arena. The place can accommodate a small audience sitting around, providing a great view of the arena and its center. A beautiful mural can be found on one of the walls, depicting the god of war in a fierce pose.\", \"starting_location_coordinates\": \"(7:24, 3:17)\"}',\n",
       " '{\"name\": \"John\", \"character_concept\": \"A traveling bard who seeks to spread joy and laughter through his music.\", \"starting_location\": \"The Arena\", \"starting_location_description\": \"The Arena is a small and circular location with a beautiful marble floor and a magnificent dome on top. The walls of the arena are made of sandstone and they are adorned with intricate engravings that depict ancient battles and warriors. The dome is high and adorned with golden patterns that reflect the light beautifully around the arena. The place can accommodate a small audience sitting around, providing a great view of the arena and its center. A beautiful mural can be found on one of the walls, depicting the god of war in a fierce pose.\", \"starting_location_coordinates\": \"(7:24, 3:17)\"}')"
      ]
     },
     "execution_count": 19,
     "metadata": {},
     "output_type": "execute_result"
    }
   ],
   "source": [
    "maskaz_initial_json, john_initial_json"
   ]
  },
  {
   "cell_type": "code",
   "execution_count": 20,
   "id": "59c15122",
   "metadata": {},
   "outputs": [
    {
     "name": "stdout",
     "output_type": "stream",
     "text": [
      "Unterminated string starting at: line 33 column 21 (char 1783)\n",
      "{\n",
      "    \"name\": \"Maskaz\",\n",
      "    \"level\": 2,\n",
      "    \"health\": 10,\n",
      "    \"concept\": \"A maverick mathematician seeking senseless adventures\",\n",
      "    \"location\": \"The Arena\",\n",
      "    \"appearance\": \"A lanky man with disheveled dark hair and a pair of glasses\",\n",
      "    \"personality\": \"Charismatic, adventurous and impulsive at times\",\n",
      "    \"abilities\": \"Expert in probability theory, excellent marksman with firearms\",\n",
      "    \"backstory\": \"Maskaz was a brilliant mathematician who grew bored of the academic world. Seeking a sense of purpose, he turned to the life of adventuring, feeling that he would be able to find meaning in a world of danger and excitement. He has since traveled far and wide, taking on odd jobs and attending different arenas and gun shows.\",\n",
      "    \"memories\": [\n",
      "        \"Winning his first gun competition by a hair's breadth\",\n",
      "        \"A near-death experience with a hired gun in his last adventure\",\n",
      "        \"The joy he felt when discovering the beauty of probability\"\n",
      "    ],\n",
      "    \"goals\": [\n",
      "        \"Minute⁝To show off his expert marksmanship to the crowd and gain recognition\",\n",
      "        \"Hour⁝To find a worthy opponent to battle and prove his worth\",\n",
      "        \"Week⁝To discover and solve a mathematical enigma hidden in the world\"\n",
      "    ],\n",
      "    \"plans\": [\n",
      "        \"Minute⁝Perform an outrageous trickshot with his firearm\",\n",
      "        \"Hour⁝Find the most skilled warrior in the arena and challenge them\",\n",
      "        \"Week⁝Attend libraries and universities in search of clues to the enigma\"\n",
      "    ],\n",
      "    \"equipments\": {\n",
      "        \"Firearm\": \"A customized revolver with a long barrel\",\n",
      "        \"Laptop\": \"A personal laptop with hacking capabilities\",\n",
      "        \"Pocketwatch\": \"A heirloom pocketwatch that belonged to his grandfather\"\n",
      "    },\n",
      "    \"gold\": 25,\n",
      "    \"coordinates\": \"(9, 20)\",\n",
      "    \"surroundings\": \"The arena is well-lit and emanates a sense of excitement, with spectators around anticipating the impending spectacles. The walls of the arena are plastered with drawings of fantastic warriors and their victories in battle, while the sandstone that makes up the walls and floor provide an air of antiquity. The sound of chattering and cheers fills the ears of Masksaz, as different people from different walks of life enjoy\n",
      "{'name': 'Maskaz', 'level': 2, 'health': 8, 'concept': 'A maverick mathematician seeking senseless adventures.', 'location': 'The Arena', 'appearance': 'A tall, lanky fellow with thick-framed glasses.', 'personality': 'Maskaz is immensely curious and always willing to take risks.', 'abilities': 'Maskaz is highly skilled in probability and statistics.', 'backstory': 'Maskaz spent months in seclusion, scribbling on a notebook and analyzing data. After a while, he realized that there might be more to life than math. By sheer luck, he stumbled upon the Arena and decided to join.', 'memories': ['Lived alone for a long period of time.', 'Never left his city before.', 'Has a knack for puzzles.'], 'goals': ['Minute⁝To win the next round.', 'Hour⁝To gather some intel about other fighters.', 'Week⁝To become the champion of the Arena.'], 'plans': ['Minute⁝Observe how the other fighters move.', 'Hour⁝Talk to the bookkeeper about the odd bouts.', 'Week⁝Train harder and smarter.'], 'equipments': ['Notebook and pen: To jot down ideas.', 'Brass knuckles: To pack a punch.', 'Magnifying glass: To observe.'], 'gold': 50, 'coordinates': '(13, 18)', 'surroundings': 'Maskaz sees a massive stone wall with entrances at seven different positions, each marked with a number. The crowd is clamoring, and the heat is sweltering. A few fighters are already scattered around the arena, some stretching and others practicing their moves.', 'attributes': {'str': 2, 'dex': 4, 'cha': 3, 'wit': 4, 'mgk': 2}, 'hidden_state': \"Maskaz feels invigorated and slightly nervous at the prospect of facing off against formidable foes. He scans the audience for familiar faces but doesn't spot any. His fingers are itching to solve the probability problem he saw earlier in the bookkeeper's booth.\"}\n"
     ]
    }
   ],
   "source": [
    "create_maskaz = CreateChar(maskaz_initial_json)\n",
    "print(create_maskaz.json_response)\n",
    "maskaz_sheet_dict = create_maskaz.sheet_dict"
   ]
  },
  {
   "cell_type": "code",
   "execution_count": 23,
   "id": "145a3310",
   "metadata": {},
   "outputs": [
    {
     "name": "stdout",
     "output_type": "stream",
     "text": [
      "{\n",
      "    \"name\": \"Maskaz\",\n",
      "    \"level\": 2,\n",
      "    \"health\": 8,\n",
      "    \"concept\": \"A maverick mathematician seeking senseless adventures.\",\n",
      "    \"location\": \"The Arena\",\n",
      "    \"appearance\": \"A tall, lanky fellow with thick-framed glasses.\",\n",
      "    \"personality\": \"Maskaz is immensely curious and always willing to take risks.\",\n",
      "    \"abilities\": \"Maskaz is highly skilled in probability and statistics.\",\n",
      "    \"backstory\": \"Maskaz spent months in seclusion, scribbling on a notebook and analyzing data. After a while, he realized that there might be more to life than math. By sheer luck, he stumbled upon the Arena and decided to join.\",\n",
      "    \"memories\": [\n",
      "        \"Lived alone for a long period of time.\",\n",
      "        \"Never left his city before.\",\n",
      "        \"Has a knack for puzzles.\"\n",
      "    ],\n",
      "    \"goals\": [\n",
      "        \"Minute⁝To win the next round.\",\n",
      "        \"Hour⁝To gather some intel about other fighters.\",\n",
      "        \"Week⁝To become the champion of the Arena.\"\n",
      "    ],\n",
      "    \"plans\": [\n",
      "        \"Minute⁝Observe how the other fighters move.\",\n",
      "        \"Hour⁝Talk to the bookkeeper about the odd bouts.\",\n",
      "        \"Week⁝Train harder and smarter.\"\n",
      "    ],\n",
      "    \"equipments\": [\n",
      "        \"Notebook and pen: To jot down ideas.\",\n",
      "        \"Brass knuckles: To pack a punch.\",\n",
      "        \"Magnifying glass: To observe.\"\n",
      "    ],\n",
      "    \"gold\": 50,\n",
      "    \"coordinates\": \"(13, 18)\",\n",
      "    \"surroundings\": \"Maskaz sees a massive stone wall with entrances at seven different positions, each marked with a number. The crowd is clamoring, and the heat is sweltering. A few fighters are already scattered around the arena, some stretching and others practicing their moves.\",\n",
      "    \"attributes\": {\n",
      "        \"str\": 2,\n",
      "        \"dex\": 4,\n",
      "        \"cha\": 3,\n",
      "        \"wit\": 4,\n",
      "        \"mgk\": 2\n",
      "    },\n",
      "    \"hidden_state\": \"Maskaz feels invigorated and slightly nervous at the prospect of facing off against formidable foes. He scans the audience for familiar faces but doesn't spot any. His fingers are itching to solve the probability problem he saw earlier in the bookkeeper's booth.\" \n",
      "}\n"
     ]
    }
   ],
   "source": [
    "print(create_maskaz.response)"
   ]
  },
  {
   "cell_type": "code",
   "execution_count": 24,
   "id": "d42fa9c3",
   "metadata": {},
   "outputs": [],
   "source": [
    "maskaz = Agent(maskaz_sheet_dict)"
   ]
  },
  {
   "cell_type": "code",
   "execution_count": 25,
   "id": "5a65954b",
   "metadata": {},
   "outputs": [
    {
     "data": {
      "text/plain": [
       "\"Maskaz looks around him and sees the massive stone wall that surrounds the Arena with seven entrances marked by numbers. The crowd is clamoring and the heat is sweltering. He notices a few fighters already on the arena, some stretching and others practicing their moves. He also sees the bookkeeper's booth where he might be able to gather some intel.\""
      ]
     },
     "execution_count": 25,
     "metadata": {},
     "output_type": "execute_result"
    }
   ],
   "source": [
    "maskaz.perceive()"
   ]
  },
  {
   "cell_type": "code",
   "execution_count": 26,
   "id": "8aee398e",
   "metadata": {},
   "outputs": [
    {
     "data": {
      "text/plain": [
       "'I observe the fighters around me, looking for any patterns or weaknesses in their movements. As I look around, I notice someone who seems to be deliberately avoiding eye contact and moving around surreptitiously. This person raises my interest and I decide to approach them to gather some intel. \\n\\n ====\\n        \"action\": \"Approach suspicious fighter:Interaction\",\\n        ===='"
      ]
     },
     "execution_count": 26,
     "metadata": {},
     "output_type": "execute_result"
    }
   ],
   "source": [
    "maskaz.act()"
   ]
  },
  {
   "cell_type": "code",
   "execution_count": 32,
   "id": "3374611a",
   "metadata": {},
   "outputs": [
    {
     "data": {
      "text/plain": [
       "'As John looks around The Arena, he sees a few people watching a group of fighters who are currently practicing. The ground is covered in sand and there is a ring in the center where contests and performances take place. He notices some weapons and shields scattered around the edges of the arena. From his vantage point, John cannot see any entrances or exits to The Arena.'"
      ]
     },
     "execution_count": 32,
     "metadata": {},
     "output_type": "execute_result"
    }
   ],
   "source": [
    "john.perceive()"
   ]
  },
  {
   "cell_type": "code",
   "execution_count": 33,
   "id": "72b7de56",
   "metadata": {},
   "outputs": [
    {
     "data": {
      "text/plain": [
       "'After observing the fighters practicing in the arena, John feels inspired to perform and spread joy through his music. He plans to approach the group and offer to play a song or two for them. \\n\\n\"action\": \"Approach the group of fighters and ask if they would like to listen to some music: Interaction\"'"
      ]
     },
     "execution_count": 33,
     "metadata": {},
     "output_type": "execute_result"
    }
   ],
   "source": [
    "john.act()"
   ]
  },
  {
   "cell_type": "code",
   "execution_count": null,
   "id": "1d7e0607",
   "metadata": {},
   "outputs": [],
   "source": []
  }
 ],
 "metadata": {
  "kernelspec": {
   "display_name": "Python 3 (ipykernel)",
   "language": "python",
   "name": "python3"
  },
  "language_info": {
   "codemirror_mode": {
    "name": "ipython",
    "version": 3
   },
   "file_extension": ".py",
   "mimetype": "text/x-python",
   "name": "python",
   "nbconvert_exporter": "python",
   "pygments_lexer": "ipython3",
   "version": "3.10.11"
  }
 },
 "nbformat": 4,
 "nbformat_minor": 5
}
