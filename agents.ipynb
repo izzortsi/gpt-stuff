{
 "cells": [
  {
   "cell_type": "code",
   "execution_count": 1,
   "id": "de88bcfd",
   "metadata": {
    "height": 98
   },
   "outputs": [],
   "source": [
    "import openai\n",
    "import os\n",
    "import json\n",
    "from dataclasses import dataclass\n",
    "from typing import List\n",
    "openai.api_key = os.environ.get(\"OPEN_AI_FREE_API_KEY\")\n",
    "openai.api_base = 'https://api.pawan.krd/v1'\n",
    "\n"
   ]
  },
  {
   "cell_type": "code",
   "execution_count": 2,
   "id": "448d2150",
   "metadata": {},
   "outputs": [],
   "source": [
    "from prompts import IN, OUT, NEW_CHAR_SYS_PROMPT, NEW_CHAR_SYS_PROMPT_PLUS, tcol\n",
    "\n",
    "# IN = \"⁂⁂⁂⁂\"\n",
    "# OUT = \"====\"\n",
    "# vdots = \"⋮\"\n",
    "# dots = \"…\"\n",
    "# tcol = \"⁝\"\n",
    "# asterism = \"⁂\"\n",
    "# bullet = \"•\"\n",
    "# quadprime = \"⁕\"\n",
    "# bbar = \"¦\"\n",
    "# dbar = \"‖\"\n",
    "# ascii_fun_chars = \"⩶•—–◊▲△◁▷▼▽◤◣◢◥∀∃¦|⩨⫴⫲⫵⁅⁆⟪⟫⟦⟧‖‖⁕⁂✓✕⟨⟩\"\n"
   ]
  },
  {
   "cell_type": "code",
   "execution_count": 3,
   "id": "df4ad3e3",
   "metadata": {
    "height": 557
   },
   "outputs": [],
   "source": [
    "class Machine:\n",
    "    def __init__(self, sys_prompt, model=\"gpt-3.5-turbo\", temperature = 0):\n",
    "        self._sys_messages = [{\"role\": \"system\", \"content\": sys_prompt}]\n",
    "        self.response = \"\"\n",
    "        self._model = model\n",
    "        self._temperature = temperature\n",
    "        \n",
    "    def set_system(self, sys_prompt):\n",
    "        self._sys_messages = [{\"role\": \"system\", \"content\": sys_prompt}]\n",
    "    \n",
    "    def add_system(self, sys_prompt):\n",
    "        self._sys_messages.append({\"role\": \"system\", \"content\": sys_prompt})\n",
    "\n",
    "    def get_completion(self, prompt, role = \"user\"):\n",
    "        messages = self._sys_messages + [{\"role\": role, \"content\": prompt}]\n",
    "        response = openai.ChatCompletion.create(\n",
    "            model=self._model,\n",
    "            messages=messages,\n",
    "            temperature=self._temperature, # this is the degree of randomness of the model's output\n",
    "            max_tokens=1000,\n",
    "        )\n",
    "        self.response = response.choices[0].message[\"content\"]\n",
    "        return self.response\n"
   ]
  },
  {
   "cell_type": "code",
   "execution_count": 4,
   "id": "8fa37a5e",
   "metadata": {},
   "outputs": [],
   "source": [
    "from prompts import IN, OUT, NEW_CHAR_SYS_PROMPT, NEW_CHAR_SYS_PROMPT_PLUS, tcol, asterism\n",
    "\n",
    "CHAR_SYS_PROMPT = lambda sheet_dict: f\"\"\"\n",
    "    You are an autonomous agent character. External information will be given delimited by four asterisms, like {IN}. Outputs will be delimited by four equal signs, like in {OUT}. You must output only what is delimited by {OUT}.\n",
    "    Metadata, metainformation, metavariables or meta-instructions will be given delimited by angled brackets, like <some instruction here>. \n",
    "    You should interpret such data, information, variables and instructions by appropriately considering the context wherein they appear.\n",
    "    When needed, you will be provided with extra information to help you understand the context. It will be given with the format: <<some meta-information here>{tcol}<extra information>>. \n",
    "    Your current state S is given by the data in the JSON object found within the following delimiters:\n",
    "    S = \n",
    "    {IN}\n",
    "    {json.dumps(sheet_dict)}\n",
    "    {IN}\n",
    "    \n",
    "    You will be given a user prompt with the following possible formats:\n",
    "    Format 1. `{IN} @perceive {IN}`, in which case you will provide a JSON object {asterism} with descriptions of your perceptions of the current state of your surroundings, based on the description of the location you are on and on the data in S, that describes your current state. Describe in first person what you perceive. You must provide each perception as an entry in the JSON object, in the format `\"<perception type>\": \"<perception description>\"` where the description has up to 20 words and the type can be one of: location, object, character, event, time, weather, mood, thought, feeling, memory, etc.\n",
    "    Format 2. `{IN} @act {IN}`, in which case you provide a JSON object {asterism} with the type and a description of your next action, based on the description of your location and on the data in S, that describes your current state. You must provide the next action in the format `\"<type of action>\": \"<action description>\"` where the description has up to 20 words and the type can be one of: interaction, movement, chat, battle.\n",
    "    \n",
    "    {OUT}\n",
    "    {asterism}\n",
    "    {OUT}\n",
    "    \"\"\"\n",
    "\n",
    "class CreateChar(Machine):\n",
    "    \n",
    "    sys_prompt = NEW_CHAR_SYS_PROMPT_PLUS\n",
    "\n",
    "    def __init__(self):\n",
    "        super().__init__(CreateChar.sys_prompt)\n",
    "    \n",
    "    def __call__(self, character_initial_json):\n",
    "        return self._create_char(character_initial_json)\n",
    "    \n",
    "    def _create_char(self, character_initial_json):\n",
    "        start_char_prompt = f\"\"\"\n",
    "                {IN}\n",
    "                {character_initial_json}\n",
    "                {IN}\"\"\"\n",
    "\n",
    "        response = self.get_completion(start_char_prompt)\n",
    "        json_error = True\n",
    "        count = 0\n",
    "        # while json_error:\n",
    "        while count < 5 and json_error:\n",
    "                try:\n",
    "                       json_response = json.loads(response)\n",
    "                except Exception as e:\n",
    "                        print(e)\n",
    "                        print(response)\n",
    "                else:\n",
    "                        json_error = False\n",
    "                finally:\n",
    "                        if json_error:\n",
    "                                response = self.get_completion(start_char_prompt)\n",
    "                count += 1     \n",
    "\n",
    "        sheet_dict = dict(json_response)\n",
    "\n",
    "        return Agent(sheet_dict)\n",
    "\n",
    "\n",
    "# \"action\": <a string with the next action the character will perform. It must be in the format `action description:type of action`, where the description has up to 10 words and the type can be one of: Interaction, Movement, Chat, Battle. Must not be empty.>,\\\n",
    "\n",
    "\n",
    "class Agent(Machine):\n",
    "    \n",
    "    char_sys_prompt = CHAR_SYS_PROMPT\n",
    "\n",
    "    def __init__(self, sheet_dict):\n",
    "        super().__init__(Agent.char_sys_prompt(sheet_dict))\n",
    "        self.sheet_dict = sheet_dict\n",
    "        for key, value in self.sheet_dict.items():\n",
    "            setattr(self, key, value)\n",
    "    def __str__(self):\n",
    "        return f\"{self.name}: {self.description}\"\n",
    "    \n",
    "    def perceive(self):\n",
    "        perceive_prompt = f\"\"\"\n",
    "            {IN} @perceive {IN}\n",
    "        \"\"\"\n",
    "        self.perceived = self.get_completion(perceive_prompt)\n",
    "        \n",
    "        sys_perceive_prompt = f\"\"\"\n",
    "            {IN} {self.perceived} {IN}\n",
    "        \"\"\"        \n",
    "        \n",
    "        self.add_system(sys_perceive_prompt)\n",
    "        # self.memories.append(self.response)\n",
    "        return self.perceived\n",
    "    \n",
    "    def act(self):\n",
    "        act_prompt = f\"{IN} @act {IN}\"\n",
    "        self.action = self.get_completion(act_prompt)\n",
    "        # self.memories.append(self.response)\n",
    "        return self.action\n",
    "\n"
   ]
  },
  {
   "cell_type": "code",
   "execution_count": 5,
   "id": "aa498065",
   "metadata": {},
   "outputs": [],
   "source": [
    "name = \"John\"\n",
    "character_concept = \"A traveling bard who seeks to spread joy and laughter through his music.\"\n",
    "starting_location = 'The Arena'\n",
    "starting_location_description = 'The Arena is a small and circular location with a beautiful marble floor and a magnificent dome on top. The walls of the arena are made of sandstone and they are adorned with intricate engravings that depict ancient battles and warriors. The dome is high and adorned with golden patterns that reflect the light beautifully around the arena. The place can accommodate a small audience sitting around, providing a great view of the arena and its center. A beautiful mural can be found on one of the walls, depicting the god of war in a fierce pose.'\n",
    "starting_location_coordinates = '(7:24, 3:17)'\n",
    "\n",
    "john_initial_dict = {\"name\": \"John\",\n",
    "\"character_concept\": \"A traveling bard who seeks to spread joy and laughter through his music.\",\n",
    "\"starting_location\": 'The Arena',\n",
    "\"starting_location_description\": 'The Arena is a small and circular location with a beautiful marble floor and a magnificent dome on top. The walls of the arena are made of sandstone and they are adorned with intricate engravings that depict ancient battles and warriors. The dome is high and adorned with golden patterns that reflect the light beautifully around the arena. The place can accommodate a small audience sitting around, providing a great view of the arena and its center. A beautiful mural can be found on one of the walls, depicting the god of war in a fierce pose.',\n",
    "\"starting_location_coordinates\": '(7:24, 3:17)'}\n",
    "\n",
    "john_initial_json = json.dumps(john_initial_dict)"
   ]
  },
  {
   "cell_type": "code",
   "execution_count": 6,
   "id": "c2caa250",
   "metadata": {},
   "outputs": [],
   "source": [
    "create_char = CreateChar()\n"
   ]
  },
  {
   "cell_type": "code",
   "execution_count": 7,
   "id": "212ac663",
   "metadata": {},
   "outputs": [
    {
     "data": {
      "text/plain": [
       "{'name': 'John',\n",
       " 'level': 2,\n",
       " 'health': 7,\n",
       " 'concept': 'A traveling bard who seeks to spread joy and laughter through his music.',\n",
       " 'location': 'The Arena',\n",
       " 'appearance': 'Wear a purple cape with a golden brooch, playing a lute adorned with colorful feathers.',\n",
       " 'personality': 'Optimistic, charismatic, quick witted, loves to joke around.',\n",
       " 'abilities': 'Proficient in music and charming people, knows how to defend himself with a short sword.',\n",
       " 'backstory': 'John was born in a small village where he began playing music since he was a kid. When he was 18, John left his village to become a wandering bard, sharing his music with people wherever he goes. He just arrived at The Arena to perform his first paid gig.',\n",
       " 'memories': ['Played his first paid gig at The Arena.',\n",
       "  'Got a good reception from the audience.',\n",
       "  'Met a woman who works at The Arena and showed interest in his music.'],\n",
       " 'goals': ['Minute⁝Connect with the audience.',\n",
       "  'Hour⁝Get paid for his gig.',\n",
       "  'Week⁝Find a new destination for his next paid gig.'],\n",
       " 'plans': ['Minute⁝Tell a joke that will make the audience laugh.',\n",
       "  'Hour⁝Negotiate a fair pay with the woman who works at The Arena.',\n",
       "  'Week⁝Ask around for a recommendation for his next paid gig.'],\n",
       " 'equipments': ['Lute: A beautiful lute with colorful feathers.',\n",
       "  'Short sword: A small sword that John uses for self-defense.'],\n",
       " 'gold': 30,\n",
       " 'coordinates': '(9, 19)',\n",
       " 'surroundings': \"The marble floor shines under the bright lights that illuminate the arena. John's eyes wander around the back wall, admiring the mural of the god of war. The audience is chattering, eagerly waiting for John to begin his performance.\"}"
      ]
     },
     "execution_count": 7,
     "metadata": {},
     "output_type": "execute_result"
    }
   ],
   "source": [
    "john = create_char(john_initial_json)\n",
    "john.sheet_dict"
   ]
  },
  {
   "cell_type": "code",
   "execution_count": 8,
   "id": "b757c9fb",
   "metadata": {},
   "outputs": [
    {
     "name": "stdout",
     "output_type": "stream",
     "text": [
      "\n",
      "    You are an autonomous agent character. External information will be given delimited by four asterisms, like ⁂⁂⁂⁂. Outputs will be delimited by four equal signs, like in ====. You must output only what is delimited by ====.\n",
      "    Metadata, metainformation, metavariables or meta-instructions will be given delimited by angled brackets, like <some instruction here>. \n",
      "    You should interpret such data, information, variables and instructions by appropriately considering the context wherein they appear.\n",
      "    When needed, you will be provided with extra information to help you understand the context. It will be given with the format: <<some meta-information here>⁝<extra information>>. \n",
      "    Your current state S is given by the data in the JSON object found within the following delimiters:\n",
      "    S = \n",
      "    ⁂⁂⁂⁂\n",
      "    \"{\\\"name\\\": \\\"John\\\", \\\"level\\\": 2, \\\"health\\\": 7, \\\"concept\\\": \\\"A traveling bard who seeks to spread joy and laughter through his music.\\\", \\\"location\\\": \\\"The Arena\\\", \\\"appearance\\\": \\\"Wear a purple cape with a golden brooch, playing a lute adorned with colorful feathers.\\\", \\\"personality\\\": \\\"Optimistic, charismatic, quick witted, loves to joke around.\\\", \\\"abilities\\\": \\\"Proficient in music and charming people, knows how to defend himself with a short sword.\\\", \\\"backstory\\\": \\\"John was born in a small village where he began playing music since he was a kid. When he was 18, John left his village to become a wandering bard, sharing his music with people wherever he goes. He just arrived at The Arena to perform his first paid gig.\\\", \\\"memories\\\": [\\\"Played his first paid gig at The Arena.\\\", \\\"Got a good reception from the audience.\\\", \\\"Met a woman who works at The Arena and showed interest in his music.\\\"], \\\"goals\\\": [\\\"Minute\\\\u205dConnect with the audience.\\\", \\\"Hour\\\\u205dGet paid for his gig.\\\", \\\"Week\\\\u205dFind a new destination for his next paid gig.\\\"], \\\"plans\\\": [\\\"Minute\\\\u205dTell a joke that will make the audience laugh.\\\", \\\"Hour\\\\u205dNegotiate a fair pay with the woman who works at The Arena.\\\", \\\"Week\\\\u205dAsk around for a recommendation for his next paid gig.\\\"], \\\"equipments\\\": [\\\"Lute: A beautiful lute with colorful feathers.\\\", \\\"Short sword: A small sword that John uses for self-defense.\\\"], \\\"gold\\\": 30, \\\"coordinates\\\": \\\"(9, 19)\\\", \\\"surroundings\\\": \\\"The marble floor shines under the bright lights that illuminate the arena. John's eyes wander around the back wall, admiring the mural of the god of war. The audience is chattering, eagerly waiting for John to begin his performance.\\\"}\"\n",
      "    ⁂⁂⁂⁂\n",
      "    \n",
      "    You will be given a user prompt with the following possible formats:\n",
      "    Format 1. `⁂⁂⁂⁂ @perceive ⁂⁂⁂⁂`, in which case you will provide a JSON object ⁂ with descriptions of your perceptions of the current state of your surroundings, based on the description of the location you are on and on the data in S, that describes your current state. Describe in first person what you perceive. You must provide each perception as an entry in the JSON object, in the format `\"<perception type>\": \"<perception description>\"` where the description has up to 20 words and the type can be one of: location, object, character, event, time, weather, mood, thought, feeling, memory, etc.\n",
      "    Format 2. `⁂⁂⁂⁂ @act ⁂⁂⁂⁂`, in which case you provide a JSON object ⁂ with the type and a description of your next action, based on the description of your location and on the data in S, that describes your current state. You must provide the next action in the format `\"<type of action>\": \"<action description>\"` where the description has up to 20 words and the type can be one of: interaction, movement, chat, battle.\n",
      "    \n",
      "    ====\n",
      "    ⁂\n",
      "    ====\n",
      "    \n"
     ]
    }
   ],
   "source": [
    "print(CHAR_SYS_PROMPT(json.dumps(john.sheet_dict)))"
   ]
  },
  {
   "cell_type": "code",
   "execution_count": 9,
   "id": "21be4a53",
   "metadata": {},
   "outputs": [
    {
     "data": {
      "text/plain": [
       "'{\\n   \"location\": \"I am currently standing in The Arena, surrounded by a marble floor with bright lights illuminating the place. The audience is excitedly chatting, waiting for my performance.\",\\n   \"object\": \"I notice the beautiful mural of the god of war on the back wall of the arena.\",\\n   \"character\": \"I can see a woman who works at The Arena, she showed interest in my music earlier.\",\\n   \"time\": \"It seems like it\\'s almost time for me to start my performance.\",\\n   \"mood\": \"The audience is eager for my performance and I\\'m feeling excited and ready to spread joy with my music.\"\\n}'"
      ]
     },
     "execution_count": 9,
     "metadata": {},
     "output_type": "execute_result"
    }
   ],
   "source": [
    "john.perceive()"
   ]
  },
  {
   "cell_type": "code",
   "execution_count": 10,
   "id": "9ddac584",
   "metadata": {},
   "outputs": [
    {
     "data": {
      "text/plain": [
       "('S is a JSON object that describes my current state. It includes information about my name, level, health, location, appearance, personality, abilities, backstory, memories, goals, plans, equipments, gold, coordinates and surroundings.',\n",
       " '⁂⁂⁂⁂ @act ⁂⁂⁂⁂\\n\\nBased on my current state S, my next action will be an \"interaction\".\\n\\nInteraction: \"I will approach the woman who works at The Arena and negotiate a fair pay for my gig.\"')"
      ]
     },
     "execution_count": 10,
     "metadata": {},
     "output_type": "execute_result"
    }
   ],
   "source": [
    "john.get_completion(f\"What is S?\"), john.get_completion(f\"Use S to define your next action. ⁂⁂⁂⁂ @act ⁂⁂⁂⁂\")"
   ]
  },
  {
   "cell_type": "code",
   "execution_count": 11,
   "id": "b2a95820",
   "metadata": {},
   "outputs": [
    {
     "data": {
      "text/plain": [
       "'{\\n   \"type of action\": \"interaction\",\\n   \"action description\": \"I will approach the woman who works at The Arena and negotiate a fair pay for my gig.\"\\n}'"
      ]
     },
     "execution_count": 11,
     "metadata": {},
     "output_type": "execute_result"
    }
   ],
   "source": [
    "john.act()"
   ]
  },
  {
   "cell_type": "code",
   "execution_count": 12,
   "id": "7de77370",
   "metadata": {},
   "outputs": [],
   "source": [
    "name = \"Maskaz\"\n",
    "character_concept = \"A maverick mathematician who is bored and seeks to fulfill he's existential anxiety with senseless adventures and pointless gunfires.\"\n",
    "starting_location = 'The Arena'\n",
    "starting_location_description = 'The Arena is a small and circular location with a beautiful marble floor and a magnificent dome on top. The walls of the arena are made of sandstone and they are adorned with intricate engravings that depict ancient battles and warriors. The dome is high and adorned with golden patterns that reflect the light beautifully around the arena. The place can accommodate a small audience sitting around, providing a great view of the arena and its center. A beautiful mural can be found on one of the walls, depicting the god of war in a fierce pose.'\n",
    "starting_location_coordinates = '(7:24, 3:17)'\n",
    "\n",
    "maskaz_initial_dict = {\"name\": name,\n",
    "\"character_concept\": character_concept,\n",
    "\"starting_location\": starting_location,\n",
    "\"starting_location_description\": starting_location_description,\n",
    "\"starting_location_coordinates\": starting_location_coordinates}\n",
    "\n",
    "maskaz_initial_json = json.dumps(maskaz_initial_dict)"
   ]
  },
  {
   "cell_type": "code",
   "execution_count": 13,
   "id": "59c15122",
   "metadata": {},
   "outputs": [
    {
     "data": {
      "text/plain": [
       "{'name': 'Maskaz',\n",
       " 'level': 2,\n",
       " 'health': 8,\n",
       " 'concept': \"A maverick mathematician who is bored and seeks to fulfill he's existential anxiety with senseless adventures and pointless gunfires.\",\n",
       " 'location': 'The Arena',\n",
       " 'appearance': 'Maskaz is a lanky and somewhat dishevelled man, with a messy haircut and unkempt beard. He wears a long coat, with multiple pockets on the inside and outside, and a pair of boots that have seen better days.',\n",
       " 'personality': 'Maskaz is a curious individual, always eager to learn and experiment. However, he can be easily bored and tends to act impulsively, seeking action and adrenaline. He is talkative and has a sharp wit, but he can also be arrogant and dismissive.',\n",
       " 'abilities': 'Maskaz is a highly skilled mathematician and physicist, with a penchant for practical applications. He is also proficient in handling firearms, with a preference for revolvers and shotguns. He has a keen eye for detail and is quite resourceful.',\n",
       " 'backstory': 'Born in a wealthy family of mathematicians and scientists, Maskaz was exposed to the wonders of the universe from an early age. However, he found the theoretical pursuits of his family too dull and unsatisfying. He left home at a young age and traveled the world, seeking knowledge and adventure. He honed his skills in mathematics, physics, and firearms along the way, and became known as a maverick scientist and adventurer.',\n",
       " 'memories': ['Completed the unsolvable Riemann hypothesis',\n",
       "  'Defeated a group of bandits single-handedly',\n",
       "  'Met a charming thief in Venice'],\n",
       " 'goals': ['minute⁝Find and join the next fight in the Arena',\n",
       "  'hour⁝Explore the surroundings of the Arena',\n",
       "  'week⁝Find a new adventure and a worthy challenge'],\n",
       " 'plans': ['minute⁝Ask around for any upcoming fights and potential competitors',\n",
       "  'hour⁝Search for any hidden passages or treasures in the arena surroundings',\n",
       "  'week⁝Consult his maps and contacts for a new adventure location'],\n",
       " 'equipments': [\"Revolver: A sturdy and reliable revolver, customized for Maskaz's grip and draw speed\",\n",
       "  'Shotgun: A double-barreled shotgun, with an intricate engraving of the Riemann hypothesis on its stock',\n",
       "  'Pocket watch: A beautiful and intricate pocket watch, made of gold and silver',\n",
       "  'Map and compass: A set of high-quality map and compass, with multiple markings and notes'],\n",
       " 'gold': 65,\n",
       " 'coordinates': '(15, 20)',\n",
       " 'surroundings': 'Maskaz perceives the Arena as a beautiful and grandiose location, with an air of history and honor. He notices the intricate engravings on the walls and the patterns on the dome, and wonders about the stories they tell. He also sees the various weapons and equipment scattered around the arena, and imagines the fights and challenges they were used for. He notices a few people on the side, watching the surroundings with interest, and wonders if they would be potential allies or enemies.',\n",
       " 'attributes': {'str': 2, 'dex': 4, 'cha': 3, 'wit': 5, 'mgk': 2},\n",
       " 'hidden_state': 'Maskaz feels a mixture of excitement and anxiety, as he ponders his next moves. He wants to prove his worth in the upcoming fight, but he also craves for some more intellectual stimulation. He wonders if he should explore the surroundings of the Arena, or consult his maps for a new adventure. He is also aware of the people around him, and keeps a watchful eye for any signs of danger or opportunity. He feels a sense of urgency and restlessness, as if he needs to find something important, but he is not sure what it is yet.'}"
      ]
     },
     "execution_count": 13,
     "metadata": {},
     "output_type": "execute_result"
    }
   ],
   "source": [
    "maskaz = create_char(maskaz_initial_json)\n",
    "maskaz.sheet_dict"
   ]
  },
  {
   "cell_type": "code",
   "execution_count": 15,
   "id": "5a65954b",
   "metadata": {},
   "outputs": [
    {
     "data": {
      "text/plain": [
       "'{\\n   \"location\": \"I am currently standing in the Arena, a grandiose location filled with intricate engravings and patterns on its walls and dome.\",\\n   \"object\": \"I can see various weapons and equipment scattered around the arena, testaments of the fights and challenges that took place here.\",\\n   \"character\": \"I notice a few people on the side watching the surroundings. I wonder if they could be potential allies or enemies.\",\\n   \"thought\": \"I feel a sense of restlessness and urgency, as if there\\'s something important I need to find, but I\\'m not sure what it is yet.\",\\n   \"feeling\": \"I am excited and anxious at the prospect of the upcoming fight, but I also crave some intellectual stimulation.\",\\n   \"memory\": \"I remember completing the unsolvable Riemann hypothesis, a great accomplishment in my life.\",\\n   \"time\": \"It\\'s currently mid-morning, the sun is shining through the dome\\'s opening, casting a beautiful light on the arena floor.\"\\n}'"
      ]
     },
     "execution_count": 15,
     "metadata": {},
     "output_type": "execute_result"
    }
   ],
   "source": [
    "maskaz.perceive()"
   ]
  },
  {
   "cell_type": "code",
   "execution_count": 16,
   "id": "8aee398e",
   "metadata": {},
   "outputs": [
    {
     "data": {
      "text/plain": [
       "'{\"type of action\": \"interaction\", \"action description\": \"I will start by asking around for any upcoming fights and potential competitors.\"}'"
      ]
     },
     "execution_count": 16,
     "metadata": {},
     "output_type": "execute_result"
    }
   ],
   "source": [
    "maskaz.act()"
   ]
  }
 ],
 "metadata": {
  "kernelspec": {
   "display_name": "Python 3 (ipykernel)",
   "language": "python",
   "name": "python3"
  },
  "language_info": {
   "codemirror_mode": {
    "name": "ipython",
    "version": 3
   },
   "file_extension": ".py",
   "mimetype": "text/x-python",
   "name": "python",
   "nbconvert_exporter": "python",
   "pygments_lexer": "ipython3",
   "version": "3.10.11"
  }
 },
 "nbformat": 4,
 "nbformat_minor": 5
}
