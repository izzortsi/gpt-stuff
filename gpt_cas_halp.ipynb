{
 "cells": [
  {
   "cell_type": "code",
   "execution_count": 1,
   "metadata": {},
   "outputs": [],
   "source": [
    "import openai\n",
    "import os\n",
    "import json\n",
    "from dataclasses import dataclass\n",
    "from typing import List\n",
    "openai.api_key = os.environ.get(\"OPEN_AI_FREE_API_KEY\")\n",
    "openai.api_base = 'https://api.pawan.krd/v1'\n",
    "\n"
   ]
  },
  {
   "cell_type": "code",
   "execution_count": 2,
   "metadata": {},
   "outputs": [],
   "source": [
    "from prompts import IN, OUT, NEW_CHAR_SYS_PROMPT, NEW_CHAR_SYS_PROMPT_PLUS, tcol"
   ]
  },
  {
   "cell_type": "code",
   "execution_count": 3,
   "metadata": {},
   "outputs": [],
   "source": [
    "class Machine:\n",
    "    def __init__(self, sys_prompt, model=\"gpt-3.5-turbo\", temperature = 0):\n",
    "        self._sys_messages = [{\"role\": \"system\", \"content\": sys_prompt}]\n",
    "        self.response = \"\"\n",
    "        self._model = model\n",
    "        self._temperature = temperature\n",
    "        \n",
    "    def set_system(self, sys_prompt):\n",
    "        self._sys_messages = [{\"role\": \"system\", \"content\": sys_prompt}]\n",
    "    \n",
    "    def add_system(self, sys_prompt):\n",
    "        self._sys_messages.append({\"role\": \"system\", \"content\": sys_prompt})\n",
    "\n",
    "    def get_completion(self, prompt, role = \"user\"):\n",
    "        messages = self._sys_messages + [{\"role\": role, \"content\": prompt}]\n",
    "        response = openai.ChatCompletion.create(\n",
    "            model=self._model,\n",
    "            messages=messages,\n",
    "            temperature=self._temperature, # this is the degree of randomness of the model's output\n",
    "            max_tokens=1000,\n",
    "        )\n",
    "        self.response = response.choices[0].message[\"content\"]\n",
    "        return self.response"
   ]
  },
  {
   "cell_type": "code",
   "execution_count": null,
   "metadata": {},
   "outputs": [],
   "source": [
    "m1 = \"\"\"Hi Igor,\n",
    "\n",
    "\n",
    "I am a recent graduate with years of experience in coding, applied mathematics, physics and biology plus social sciences; I can also say that my interests are very interdisciplinary. I am now looking into various Master's degree programs and I am unsure which one's to apply for i.e. which would be the best for me and what the modules are all about... and whether 1. applied mathematics MSc or perhaps 2. Artificial Intelligence and Adaptive Systems MSc would work for me...\n",
    "\n",
    "\n",
    "Kind regards,\n",
    "Ranel Pärna\"\"\"\n",
    "\n",
    "m2 = \"\"\"Hello, Ranel!\n",
    "I see that we have highly aligned interests. The program provided by the University of Sussex talks to me very deeply! I'm fascinated by some questions that arise in the intersection of what we deem as \"objective\" and \"subjective\" (e.g., if we are conscious, where is consciousness located physically in our body?), and, in this sense, I'm strongly drawn by all of the tools (mathematics, physics, computation, computational neuroscience, etc) that may allow one to understand this connection more thoroughly.\n",
    "I'd really love to help, to the best of my knowledge and experience.\n",
    "Att.,\n",
    "Igor\"\"\"\n",
    "\n",
    "m3 = \"\"\"Hi Igor,\n",
    "Apologies for the delay in getting back to you! I must say that your intellectual interest are fantastically aligned with mine and I'd be happy to have a friendly chat with you.\n",
    "Perhaps it would best to have one / two or more sessions with you (i.e. video call) / I'll send the contract to your way and do let me know about your availability in this week/weekend or next week. Myself: I have full availability right in the next 6 days.\n",
    "\n",
    "Regards,\n",
    "\n",
    "Ranel\"\"\"\n",
    "\n",
    "m4 = \"\"\"I am currently in the process of applying for Master's degree programs in the fields of mathematical modeling / applied mathematics / complex systems etc., and I am seeking an experienced professional/academic in those fields to assist me in finding a right fit for me (and perhaps have a look at the academic cover letter).\n",
    "\n",
    "\n",
    "So what I am looking for is some friendly consultation and guidance.\n",
    "\n",
    "\n",
    "Here are a few programs that are on my radar:\n",
    "•https://www.sussex.ac.uk/study/masters/courses/artificial-intelligence-and-adaptive-systems-msc\n",
    "• https://warwick.ac.uk/fac/sci/eng/postgraduate/pmsc/\n",
    "• https://www.lse.ac.uk/study-at-lse/Graduate/degree-programmes-2023/MSc-Applicable-Mathematics\"\"\""
   ]
  }
 ],
 "metadata": {
  "kernelspec": {
   "display_name": "Python 3",
   "language": "python",
   "name": "python3"
  },
  "language_info": {
   "codemirror_mode": {
    "name": "ipython",
    "version": 3
   },
   "file_extension": ".py",
   "mimetype": "text/x-python",
   "name": "python",
   "nbconvert_exporter": "python",
   "pygments_lexer": "ipython3",
   "version": "3.10.11"
  },
  "orig_nbformat": 4
 },
 "nbformat": 4,
 "nbformat_minor": 2
}
